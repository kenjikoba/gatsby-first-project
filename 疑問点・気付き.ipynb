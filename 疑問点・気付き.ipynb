{
 "cells": [
  {
   "cell_type": "markdown",
   "metadata": {},
   "source": [
    "# 10"
   ]
  },
  {
   "cell_type": "markdown",
   "metadata": {},
   "source": [
    "各フォルダーの役割を整理している"
   ]
  },
  {
   "cell_type": "markdown",
   "metadata": {},
   "source": [
    "# 24　Styles"
   ]
  },
  {
   "cell_type": "markdown",
   "metadata": {},
   "source": [
    "normalized CSS がよくわからない"
   ]
  },
  {
   "cell_type": "markdown",
   "metadata": {},
   "source": [
    "# 25 Footer"
   ]
  },
  {
   "cell_type": "markdown",
   "metadata": {},
   "source": [
    "あれ、コメントアウトの仕方ってどうやるんだっけ、//じゃうまくいかなかったけどこれはpython用だからか。\n",
    "他はおけ、面白い。"
   ]
  },
  {
   "cell_type": "markdown",
   "metadata": {},
   "source": [
    "# 26 Error Page"
   ]
  },
  {
   "cell_type": "markdown",
   "metadata": {},
   "source": [
    "なんかcssの部分が違うんだが...\n",
    "layoutのところが違うのかな多分"
   ]
  },
  {
   "cell_type": "markdown",
   "metadata": {},
   "source": [
    "## 27 Contact Page"
   ]
  },
  {
   "cell_type": "markdown",
   "metadata": {},
   "source": [
    "ナイスー"
   ]
  },
  {
   "cell_type": "markdown",
   "metadata": {},
   "source": [
    "# 28 Assets and Icons"
   ]
  },
  {
   "cell_type": "markdown",
   "metadata": {},
   "source": [
    "アイコンはfigmaで書いたらしい。しかし割と一瞬で作れるって。文を書いてあとはフォントを少し触っただけだって。\n",
    "このreact-icon.github最高すぎる。アイコンのイラストやを見つけたわ。"
   ]
  },
  {
   "cell_type": "markdown",
   "metadata": {},
   "source": [
    "# 29 Navbar Setup"
   ]
  },
  {
   "cell_type": "markdown",
   "metadata": {},
   "source": [
    "すげー、一瞬でいい見た目の作れんじゃん、これはすげーわ"
   ]
  },
  {
   "cell_type": "markdown",
   "metadata": {},
   "source": [
    "# 30 Navbar Functionality"
   ]
  },
  {
   "cell_type": "markdown",
   "metadata": {},
   "source": [
    "toggle Valueというのがよくわからん、何\n",
    "フォーマットがなぜか同じにならん。toggleがうまくいってないし、急にnavbarの部分が横に並ばずに変に縦にならんだ。正解をコピペしても全く変わらず、謎だな。"
   ]
  },
  {
   "cell_type": "markdown",
   "metadata": {},
   "source": [
    "# 31 Gatsby Image Info"
   ]
  },
  {
   "cell_type": "markdown",
   "metadata": {},
   "source": [
    "https://developer.mozilla.org/en-US/docs/Learn/HTML/Multimedia_and_embedding/Responsive_images\n",
    "いい,responsive imageに関してはこれ"
   ]
  },
  {
   "cell_type": "markdown",
   "metadata": {},
   "source": [
    "# 32 Sandbox Setup"
   ]
  },
  {
   "cell_type": "markdown",
   "metadata": {},
   "source": [
    "pexelsっていうサイトは画像でいい\n",
    "あと確かに動画で言ってるように写真のバイト数やばいな。"
   ]
  },
  {
   "cell_type": "markdown",
   "metadata": {},
   "source": [
    "# 33 Install Plugin"
   ]
  },
  {
   "cell_type": "markdown",
   "metadata": {},
   "source": [
    "Pluginってまじで大事だしすごいわ"
   ]
  },
  {
   "cell_type": "markdown",
   "metadata": {},
   "source": [
    "# 34 Static Image Setup"
   ]
  },
  {
   "cell_type": "markdown",
   "metadata": {},
   "source": [
    "static imageとgatsby imageがあるらしいね。違いがいまいちよくわからんな。\n",
    "なんかimageが表示されないんだが、もしやpluginうまくいってない？と思ったけどそれは大丈夫そう、なぜ。"
   ]
  },
  {
   "cell_type": "markdown",
   "metadata": {},
   "source": [
    "# 35 Shared Props and Options"
   ]
  },
  {
   "cell_type": "markdown",
   "metadata": {},
   "source": [
    "すげー、fixedとかconstraintとかでこんな違いがあんだ。"
   ]
  },
  {
   "cell_type": "markdown",
   "metadata": {},
   "source": [
    "# 36 Options Example"
   ]
  },
  {
   "cell_type": "markdown",
   "metadata": {},
   "source": [
    "おもろい、だが実装したときにimageがなぜか反映されない。なんでだ。\n",
    "\n",
    "やっぱindexのところにimagesを導入してなかったからだわ。でも画像だけなぜかまだされないっぽいぞ。"
   ]
  },
  {
   "cell_type": "markdown",
   "metadata": {},
   "source": [
    "# 37 All Layouts"
   ]
  },
  {
   "cell_type": "markdown",
   "metadata": {},
   "source": [
    "実装しなかった、ただ全部のlayout試しただけ"
   ]
  },
  {
   "cell_type": "markdown",
   "metadata": {},
   "source": [
    "# 38 Height"
   ]
  },
  {
   "cell_type": "markdown",
   "metadata": {},
   "source": [
    "fixedでは全て固定、contraintだとmaxを入力、fullwidthではエラーが出る。"
   ]
  },
  {
   "cell_type": "markdown",
   "metadata": {},
   "source": [
    "# 39 About Page"
   ]
  },
  {
   "cell_type": "markdown",
   "metadata": {},
   "source": [
    "画像表示されたーーーーー！けどなんか微妙に違う？w\n",
    "まあこのくらいはいいでしょう。ってことで解決！"
   ]
  },
  {
   "cell_type": "markdown",
   "metadata": {},
   "source": [
    "# 40 Hero Page"
   ]
  },
  {
   "cell_type": "markdown",
   "metadata": {},
   "source": [
    "おーーーー綺麗にできた。けど、なぜか綺麗に画像は映らないwうまく場所とってるけどねw"
   ]
  },
  {
   "cell_type": "markdown",
   "metadata": {},
   "source": [
    "# 41 Gatsby and GraphQL Intro"
   ]
  },
  {
   "cell_type": "markdown",
   "metadata": {},
   "source": [
    "おーーーー新しいの始まったぞ。ワクワクw\n",
    "http://localhost:8000/___graphql\n",
    "で行けるっぽいね。"
   ]
  },
  {
   "cell_type": "markdown",
   "metadata": {},
   "source": [
    "# 42 Gatsby DataLayer in a Nutshell"
   ]
  },
  {
   "cell_type": "markdown",
   "metadata": {},
   "source": [
    "これめちゃめちゃ大事じゃね？"
   ]
  },
  {
   "cell_type": "markdown",
   "metadata": {},
   "source": [
    "# 43 GraphQL Interface"
   ]
  },
  {
   "cell_type": "markdown",
   "metadata": {},
   "source": [
    "なんかすげーなこれ。全然まだわからんけど楽しみになってはきたね。"
   ]
  },
  {
   "cell_type": "markdown",
   "metadata": {},
   "source": [
    "# 44 siteMetadata"
   ]
  },
  {
   "cell_type": "markdown",
   "metadata": {},
   "source": [
    "おー、gatsby-configを少しいじった。これからいよいよgraphqlだー"
   ]
  },
  {
   "cell_type": "markdown",
   "metadata": {},
   "source": [
    "# 45 First Query"
   ]
  },
  {
   "cell_type": "markdown",
   "metadata": {},
   "source": [
    "なんかやってることわかったきがする。すごいわ。次はexplorerを使う！"
   ]
  },
  {
   "cell_type": "markdown",
   "metadata": {},
   "source": [
    "# 46 Explorer"
   ]
  },
  {
   "cell_type": "markdown",
   "metadata": {},
   "source": [
    "はい、Explorer神です。一瞬でできるようになるわ。"
   ]
  },
  {
   "cell_type": "markdown",
   "metadata": {},
   "source": [
    "# 47 Static Query vs Page Query"
   ]
  },
  {
   "cell_type": "markdown",
   "metadata": {},
   "source": [
    "まあ、Static の方を使って行きますよーってことね。どっちも結果は同じだけど"
   ]
  },
  {
   "cell_type": "markdown",
   "metadata": {},
   "source": [
    "# 48 useStaticQuery Hook - Code Exporter"
   ]
  },
  {
   "cell_type": "markdown",
   "metadata": {},
   "source": [
    "使い方がだいぶわかった。けどやっぱりあのarrayとかlistを取り出す時のreactの書き方がよくわからんのー、keyとか設定したりするのがね。まあでも使い方がわかった、そしてすげ。"
   ]
  },
  {
   "cell_type": "markdown",
   "metadata": {},
   "source": [
    "# 49 useStaticQuery, graphql - From Scratch"
   ]
  },
  {
   "cell_type": "markdown",
   "metadata": {},
   "source": [
    "おーーーー、これめちゃんこ楽しいわ。データが扱えるようになるじゃん完璧に。"
   ]
  },
  {
   "cell_type": "markdown",
   "metadata": {},
   "source": [
    "# 50 Field Alias"
   ]
  },
  {
   "cell_type": "markdown",
   "metadata": {},
   "source": [
    "alias最高かよ、長い名前を単純にできるんじゃん"
   ]
  },
  {
   "cell_type": "markdown",
   "metadata": {},
   "source": [
    "# 51 Query Keyword, Name and Gatsby Clean"
   ]
  },
  {
   "cell_type": "markdown",
   "metadata": {},
   "source": [
    "query keywordについていまいちわからんかったな"
   ]
  },
  {
   "cell_type": "markdown",
   "metadata": {},
   "source": [
    "# 52 Page Query"
   ]
  },
  {
   "cell_type": "markdown",
   "metadata": {},
   "source": [
    "いいね"
   ]
  },
  {
   "cell_type": "markdown",
   "metadata": {},
   "source": [
    "# 53 Install SOURCE-FILESYSTEM Plugin"
   ]
  },
  {
   "cell_type": "markdown",
   "metadata": {},
   "source": [
    "ほほう、あんまり内容自体はなかったっちゃなかったかな"
   ]
  },
  {
   "cell_type": "markdown",
   "metadata": {},
   "source": [
    "# 54 allFile - Field"
   ]
  },
  {
   "cell_type": "markdown",
   "metadata": {},
   "source": [
    "いいやん、てかこれに関してはそこまで"
   ]
  },
  {
   "cell_type": "markdown",
   "metadata": {},
   "source": [
    "# 55 Query Arguments"
   ]
  },
  {
   "cell_type": "markdown",
   "metadata": {},
   "source": [
    "argumentsって制約ってことかね。いいね、このsortとかfilterとかありがたい。"
   ]
  },
  {
   "cell_type": "markdown",
   "metadata": {},
   "source": [
    "# 56 Static Path Fix"
   ]
  },
  {
   "cell_type": "markdown",
   "metadata": {},
   "source": [
    "ほい、内容なし、まあ1分だそりゃそう"
   ]
  },
  {
   "cell_type": "markdown",
   "metadata": {},
   "source": [
    "# 57 file - Field "
   ]
  },
  {
   "cell_type": "markdown",
   "metadata": {},
   "source": [
    "graphqlのexplorerのfileは意味わかったわ。"
   ]
  },
  {
   "cell_type": "markdown",
   "metadata": {},
   "source": [
    "# 58 sourceInstanceName - Argument"
   ]
  },
  {
   "cell_type": "markdown",
   "metadata": {},
   "source": [
    "あのnameの意味がわかったわ"
   ]
  },
  {
   "cell_type": "markdown",
   "metadata": {},
   "source": [
    "# 59 Gallery Setup"
   ]
  },
  {
   "cell_type": "markdown",
   "metadata": {},
   "source": [
    "ほほう、GALLERY作るぞーーーーーーい！"
   ]
  },
  {
   "cell_type": "markdown",
   "metadata": {},
   "source": [
    "# 60 gatsbyImageData - Field"
   ]
  },
  {
   "cell_type": "markdown",
   "metadata": {},
   "source": [
    "childrenImageSharpって名前面白いね。そして前までのstaticImageとかgatsbyImageとかの時に書いていたコードを書かなくて良くなるのすごない。query最高"
   ]
  },
  {
   "cell_type": "markdown",
   "metadata": {},
   "source": [
    "# 61 Render Gallery"
   ]
  },
  {
   "cell_type": "markdown",
   "metadata": {},
   "source": [
    "はいきたー、これでデータから全ての画像を出力させることができるのまじ神なんだが。ここでやり方わかる！！"
   ]
  },
  {
   "cell_type": "markdown",
   "metadata": {},
   "source": [
    "# 62 getImage - Helper Function"
   ]
  },
  {
   "cell_type": "markdown",
   "metadata": {},
   "source": [
    "getImageを使うべきなのはなんとなく理解したけど（使わなかったらimageが一つでもかけていたら全てがerrorになってサイト自体がぶっ壊れる）、あんましピンとこないよね、まあ先生もそうだと言ってたけど。"
   ]
  },
  {
   "cell_type": "markdown",
   "metadata": {},
   "source": [
    "# 63 Local vs External Data"
   ]
  },
  {
   "cell_type": "markdown",
   "metadata": {},
   "source": [
    "localdataとexternaldataによって使うものが違う。そしてexternalの方のHeadless cmsっていうやつをこれから使っていくらしい。"
   ]
  },
  {
   "cell_type": "markdown",
   "metadata": {},
   "source": [
    "# 64 Headless CMS"
   ]
  },
  {
   "cell_type": "markdown",
   "metadata": {},
   "source": [
    "なんかいまいちよくわからんかった。とりあえずheadless cms.org的なサイトがあり、freeのopen sourceと金を払うclosed sourceがあって、openでも金を払わなければいけない時があることがわかった。"
   ]
  },
  {
   "cell_type": "markdown",
   "metadata": {},
   "source": [
    "# 65 Contentful Info"
   ]
  },
  {
   "cell_type": "markdown",
   "metadata": {},
   "source": [
    "contentful.comに行き、登録をする。これがおそらくサイトのwordpressとかのようなデータを管理してくれるものなのであろう。"
   ]
  },
  {
   "cell_type": "markdown",
   "metadata": {},
   "source": [
    "# 66 Setup Contentful Account"
   ]
  },
  {
   "cell_type": "markdown",
   "metadata": {},
   "source": [
    "アカウント登録完了、これからじゃあ作業開始して行きますか。"
   ]
  },
  {
   "cell_type": "markdown",
   "metadata": {},
   "source": [
    "# 67 Content - Type"
   ]
  },
  {
   "cell_type": "markdown",
   "metadata": {},
   "source": [
    "contentに足せたー、楽しい！これでトマトのホームページも作れそうなんだよね。作ってみたい。あとサッカー系のサイトも作りたいな。"
   ]
  },
  {
   "cell_type": "markdown",
   "metadata": {},
   "source": [
    "# 68 Content"
   ]
  },
  {
   "cell_type": "markdown",
   "metadata": {},
   "source": [
    "実際全てをパスできたと思う！よし。でもこのapiキーを必ずみられないようにしなきゃ行けない理由がよくわからない。隠さなきゃ行けないやつなのね。"
   ]
  },
  {
   "cell_type": "markdown",
   "metadata": {},
   "source": [
    "# 69 Connect Gatsby - Contentful\n"
   ]
  },
  {
   "cell_type": "markdown",
   "metadata": {},
   "source": [
    "ん、こっちがapiのやつやないかいw"
   ]
  },
  {
   "cell_type": "markdown",
   "metadata": {},
   "source": [
    "# 70 ENV Variables"
   ]
  },
  {
   "cell_type": "markdown",
   "metadata": {},
   "source": [
    "envファイルでapiキーをしっかり隠すことに成功しました！これで安心！"
   ]
  },
  {
   "cell_type": "markdown",
   "metadata": {},
   "source": [
    "# 71 allContentfulRecipe - Field"
   ]
  },
  {
   "cell_type": "markdown",
   "metadata": {},
   "source": [
    "queryを作るぞいー、いいねこれ、楽しいしどんどんわかっていく感覚がある。"
   ]
  },
  {
   "cell_type": "markdown",
   "metadata": {},
   "source": [
    "# 72 AllRecipes Component"
   ]
  },
  {
   "cell_type": "markdown",
   "metadata": {},
   "source": [
    "まあまあこれでqueryできて、うまく埋め込めたのかな。"
   ]
  },
  {
   "cell_type": "markdown",
   "metadata": {},
   "source": [
    "# 73 RecipesList Component"
   ]
  },
  {
   "cell_type": "markdown",
   "metadata": {},
   "source": [
    "ちょっとコードむずいなこの辺。慣れなければ。でも無事全ての画像を出力できました。！"
   ]
  },
  {
   "cell_type": "markdown",
   "metadata": {},
   "source": [
    "# 74 Featured Recipes"
   ]
  },
  {
   "cell_type": "markdown",
   "metadata": {},
   "source": [
    "はいきたー、aboutとcontactページがほぼほぼ完成してるじゃん！！！！"
   ]
  },
  {
   "cell_type": "markdown",
   "metadata": {},
   "source": [
    "# 75 Utils Setup"
   ]
  },
  {
   "cell_type": "markdown",
   "metadata": {},
   "source": [
    "やっぱtagsのデータ構造は他のに比べて難しんだわ。これからがんばろう。"
   ]
  },
  {
   "cell_type": "markdown",
   "metadata": {},
   "source": [
    "# 76 Helper Function"
   ]
  },
  {
   "cell_type": "markdown",
   "metadata": {},
   "source": [
    "すげー、一瞬でこんなに揃えられるなんて...javascriptのまだ色々知らない関数的なの出てきたから二週めでマスターかな。"
   ]
  },
  {
   "cell_type": "markdown",
   "metadata": {},
   "source": [
    "# 77 TagsList"
   ]
  },
  {
   "cell_type": "markdown",
   "metadata": {},
   "source": [
    "うぎゃーーーーーー、あっさりtagslistがうまく表示できるようになっちゃったよ。スンゲー"
   ]
  },
  {
   "cell_type": "markdown",
   "metadata": {},
   "source": [
    "# 78 Tags Page"
   ]
  },
  {
   "cell_type": "markdown",
   "metadata": {},
   "source": [
    "えっっっぐwtagspageも一瞬で完成した。このiterateのやり方最高すぎん。絶対使いたいわ。\n",
    "そして次からはこの一つ一つのtagsのページを自動的に作るやり方を学ぶ。超大事なやつやん。"
   ]
  },
  {
   "cell_type": "markdown",
   "metadata": {},
   "source": [
    "# 79 Recipe Template Page Setup"
   ]
  },
  {
   "cell_type": "markdown",
   "metadata": {},
   "source": [
    "んんんん？たったあれだけで？{ContentfulRecipe.title}.jsっていうファイル作っただけでもうページできてんのなんなん？？？？すげw"
   ]
  },
  {
   "cell_type": "markdown",
   "metadata": {},
   "source": [
    "# 80 Recipe Template Page Walkthrough"
   ]
  },
  {
   "cell_type": "markdown",
   "metadata": {},
   "source": [
    "二つやり方があるらしいね。これは前のやつで言ってたかもなw。ここではちょっとしたエラー的なの出ちゃったけど、まあうまくいくでしょう。完成が楽しみだわ。"
   ]
  },
  {
   "cell_type": "markdown",
   "metadata": {},
   "source": [
    "# 81 Slugify"
   ]
  },
  {
   "cell_type": "markdown",
   "metadata": {},
   "source": [
    "偉大なるslugify。これを使えばスペースがあるものでもすぐに-を入れてurlにできるようにしてくれるのだ。"
   ]
  },
  {
   "cell_type": "markdown",
   "metadata": {},
   "source": [
    "# 82 Query Variables"
   ]
  },
  {
   "cell_type": "markdown",
   "metadata": {},
   "source": [
    "使い方の意味はだいたいわかった。実装か。"
   ]
  },
  {
   "cell_type": "markdown",
   "metadata": {},
   "source": [
    "# 83 Recipe Template Query"
   ]
  },
  {
   "cell_type": "markdown",
   "metadata": {},
   "source": [
    "まずい、あんましわかってないぞい、てかやっぱ前までのエラーが治んないぞい。"
   ]
  },
  {
   "cell_type": "markdown",
   "metadata": {},
   "source": [
    "# 84 Recipe Template Return"
   ]
  },
  {
   "cell_type": "markdown",
   "metadata": {},
   "source": [
    "すげーよ...できちゃったじゃんか。"
   ]
  },
  {
   "cell_type": "markdown",
   "metadata": {},
   "source": [
    "# 85 GATSBY-NODE.JS Setup"
   ]
  },
  {
   "cell_type": "markdown",
   "metadata": {},
   "source": [
    "gastby-node.jsのやり方でやる。"
   ]
  },
  {
   "cell_type": "markdown",
   "metadata": {},
   "source": [
    "# 86 Create Tag Template Pages Programmatically"
   ]
  },
  {
   "cell_type": "markdown",
   "metadata": {},
   "source": [
    "んー、確かにページはできてるんだけど何かが違う。まだエラーが出る。これは前のエラーなのかな。よくわからないや。chromeでやったら今のエラーは消えておけ。でも前のエラーは治ってないや。アホーーーーー、調べたらimportで間違えてる可能性が高いって出てきて見直したらimport Layoutのところをimport {Layout}にしていた。直したらうまく行きました、はい。馬鹿です。でもまじでよかった。これで行けるわ。"
   ]
  },
  {
   "cell_type": "markdown",
   "metadata": {},
   "source": [
    "# 87 Tag Template Return"
   ]
  },
  {
   "cell_type": "markdown",
   "metadata": {},
   "source": [
    "すげーい、tagpageも全部できちゃったよ。gatsby-node.jsのやり方はここまで。これでなんでも作れるはずなんだなw"
   ]
  },
  {
   "cell_type": "markdown",
   "metadata": {},
   "source": [
    "# 88 Possible Bug Fix"
   ]
  },
  {
   "cell_type": "markdown",
   "metadata": {},
   "source": [
    "slugify好き"
   ]
  },
  {
   "cell_type": "markdown",
   "metadata": {},
   "source": [
    "# 89 Fonts"
   ]
  },
  {
   "cell_type": "markdown",
   "metadata": {},
   "source": [
    "fontsを先にロードするのか後にロードするのかという細かい話だったね。確かにネットワークが遅い人にとっては必要なことだわ。そこまで気を使って作りたいねサイトを。"
   ]
  },
  {
   "cell_type": "markdown",
   "metadata": {},
   "source": [
    "# 90 Contact Form"
   ]
  },
  {
   "cell_type": "markdown",
   "metadata": {},
   "source": [
    "え、contactformってformspreeってやつ使ったら一瞬じゃんかw\n",
    "すごいわ。"
   ]
  },
  {
   "cell_type": "markdown",
   "metadata": {},
   "source": [
    "# 91 Favicon"
   ]
  },
  {
   "cell_type": "markdown",
   "metadata": {},
   "source": [
    "ファビコン帰るにはfavicon.ioっていうサイト！"
   ]
  },
  {
   "cell_type": "markdown",
   "metadata": {},
   "source": [
    "# 92 SEO - Setup"
   ]
  },
  {
   "cell_type": "markdown",
   "metadata": {},
   "source": [
    "SEOってそういうことかい、ファビコンの隣のやつかい。"
   ]
  },
  {
   "cell_type": "markdown",
   "metadata": {},
   "source": [
    "# 93 SEO - Props"
   ]
  },
  {
   "cell_type": "markdown",
   "metadata": {},
   "source": [
    "ほほう、"
   ]
  },
  {
   "cell_type": "markdown",
   "metadata": {},
   "source": [
    "# 94 SEO - Complete"
   ]
  },
  {
   "cell_type": "markdown",
   "metadata": {},
   "source": [
    " SEO終わり、いいね"
   ]
  },
  {
   "cell_type": "markdown",
   "metadata": {},
   "source": [
    "# 95 Netlify Info"
   ]
  },
  {
   "cell_type": "markdown",
   "metadata": {},
   "source": [
    "netlify.com"
   ]
  },
  {
   "cell_type": "markdown",
   "metadata": {},
   "source": [
    "# 96 Netlify - Drap and Drop"
   ]
  },
  {
   "cell_type": "markdown",
   "metadata": {},
   "source": []
  }
 ],
 "metadata": {
  "kernelspec": {
   "display_name": "Python 3",
   "language": "python",
   "name": "python3"
  },
  "language_info": {
   "codemirror_mode": {
    "name": "ipython",
    "version": 3
   },
   "file_extension": ".py",
   "mimetype": "text/x-python",
   "name": "python",
   "nbconvert_exporter": "python",
   "pygments_lexer": "ipython3",
   "version": "3.7.2"
  }
 },
 "nbformat": 4,
 "nbformat_minor": 2
}
